{
 "cells": [
  {
   "cell_type": "code",
   "execution_count": 1,
   "id": "2e75a2ce",
   "metadata": {},
   "outputs": [
    {
     "data": {
      "text/plain": [
       "<mysql.connector.connection.MySQLConnection at 0x1668e0ea910>"
      ]
     },
     "execution_count": 1,
     "metadata": {},
     "output_type": "execute_result"
    }
   ],
   "source": [
    "import mysql.connector as sql\n",
    "\n",
    "# Connecting to the database\n",
    "\n",
    "mydb = sql.connect(host=\"localhost\",user=\"root\",database = \"quiz\")\n",
    "mydb"
   ]
  },
  {
   "cell_type": "code",
   "execution_count": 2,
   "id": "683a848a",
   "metadata": {},
   "outputs": [],
   "source": [
    "# Inserting the new user details to the database and commiting the changes\n",
    "\n",
    "def insert_user(un,ui,up):\n",
    "    insert = \"INSERT INTO user_info (Name,User_ID,Password) VALUES('{}',{},'{}')\".format(un,ui,up)\n",
    "    cursor = mydb.cursor()\n",
    "    cursor.execute(insert)\n",
    "    mydb.commit()\n",
    "    print(\"User successfully registered\")\n",
    "    print()\n",
    "    main1(ui)"
   ]
  },
  {
   "cell_type": "code",
   "execution_count": 3,
   "id": "e809eb08",
   "metadata": {},
   "outputs": [],
   "source": [
    "# Takes the details of the new user to register\n",
    "\n",
    "def sign_up():\n",
    "    print(\"Enter your details to login\")\n",
    "    print()\n",
    "    un = input(\"Enter your name: \")\n",
    "    ui = int(input(\"Enter User ID in INTEGER: \"))\n",
    "    up = input(\"Enter your password: \")\n",
    "    print()\n",
    "    insert_user(un,ui,up)\n",
    "    return ui"
   ]
  },
  {
   "cell_type": "code",
   "execution_count": 4,
   "id": "7ef7d285",
   "metadata": {},
   "outputs": [],
   "source": [
    "# Checks the entered details of the user are correct or not \n",
    "# If correct display the options to choose\n",
    "# Else display User not found\n",
    "\n",
    "def login(ui,up):\n",
    "    log_in=\"SELECT * FROM user_info where User_ID= {} AND Password='{}'\".format(ui,up)\n",
    "    cursor = mydb.cursor()\n",
    "    try:\n",
    "        cursor.execute(log_in)\n",
    "        details = cursor.fetchone()\n",
    "        print(\"***** Welcome \",details[0],\"*****\")\n",
    "        main2(ui)\n",
    "    except:\n",
    "        print(\"User not Found !\")"
   ]
  },
  {
   "cell_type": "code",
   "execution_count": 5,
   "id": "0fffb9f2",
   "metadata": {},
   "outputs": [],
   "source": [
    "# Takes the details of the user to login\n",
    "\n",
    "def sign_in():\n",
    "    print(\"Enter your details to LOGIN\")\n",
    "    print()\n",
    "    ui = int(input(\"Enter your User_ID: \"))\n",
    "    up = input(\"Enter your Password: \")\n",
    "    print()\n",
    "    login(ui,up)"
   ]
  },
  {
   "cell_type": "code",
   "execution_count": 6,
   "id": "d062180e",
   "metadata": {},
   "outputs": [],
   "source": [
    "# Displays the questions one by one and takes the answers\n",
    "# Update the user score according to his answers\n",
    "# And commit the changes to the database\n",
    "\n",
    "def fetch_ques(ui):\n",
    "    question = \"SELECT * from questions\"\n",
    "    cursor = mydb.cursor()\n",
    "    cursor.execute(question)\n",
    "    score_ = 0\n",
    "    for que in cursor:\n",
    "        print(que[0],') ',que[1])\n",
    "        ans = input('Enter your Answer: ')\n",
    "        print()\n",
    "        if ans.lower()==que[2].lower():\n",
    "            score_+=1\n",
    "    marks = \"UPDATE user_info SET Score={} WHERE User_ID={}\".format(score_,ui)\n",
    "    cursor.execute(marks)\n",
    "    mydb.commit()\n",
    "    print(\"Your score is \",score_,\" out of 10\")\n",
    "    score(ui)"
   ]
  },
  {
   "cell_type": "code",
   "execution_count": 7,
   "id": "43210820",
   "metadata": {},
   "outputs": [],
   "source": [
    "# Dispalys the total score of the user and rank\n",
    "\n",
    "def score(ui):\n",
    "    count = \"select count(Score) from user_info\"\n",
    "    cursor1 = mydb.cursor()\n",
    "    cursor1.execute(count)\n",
    "    total_users = cursor1.fetchone()[0]\n",
    "    rank_ = '''select Rank_NO from (select User_id, rank() over (order by Score desc) as Rank_NO from user_info)\n",
    "as ranking where User_ID = {}'''.format(ui)\n",
    "    cursor2 = mydb.cursor()\n",
    "    cursor2.execute(rank_)\n",
    "    rank = cursor2.fetchone()[0]\n",
    "    print(\"You rank is {} out of {} people\".format(rank,total_users))\n",
    "    return ui"
   ]
  },
  {
   "cell_type": "code",
   "execution_count": 8,
   "id": "02823561",
   "metadata": {},
   "outputs": [],
   "source": [
    "# Dispaly the instructions of the Quiz\n",
    "\n",
    "def instructions():\n",
    "    print(\"***** Quiz Instructions *****\")\n",
    "    print()\n",
    "    print(\"1. Quiz contains 10 questions.\")\n",
    "    print(\"2. Each carries one mark.\")\n",
    "    print(\"3. Read the question and Answer it correctly.\")\n",
    "    print()\n",
    "    print(\"***** ALL THE BEST *****\")\n",
    "    print()"
   ]
  },
  {
   "cell_type": "code",
   "execution_count": 9,
   "id": "f5a73f9d",
   "metadata": {},
   "outputs": [],
   "source": [
    "def main1(ui):\n",
    "    while True:\n",
    "        print(\"1. Attempt the SQL quiz\")\n",
    "        print(\"2. Instructions\")\n",
    "        print(\"3. Exit\")\n",
    "        print()\n",
    "        try:\n",
    "            n = int(input(\"Enter Your Choice: \"))\n",
    "            print()\n",
    "            if n == 1:\n",
    "                fetch_ques(ui) \n",
    "                break\n",
    "            elif n == 2:\n",
    "                instructions() \n",
    "            elif n == 3:\n",
    "                print(\"Thank You!!!\")\n",
    "                break\n",
    "            else:\n",
    "                print(\"Invalid Choice! Try again.\")\n",
    "        except Exception as e:\n",
    "            print(e)"
   ]
  },
  {
   "cell_type": "code",
   "execution_count": 10,
   "id": "d7d46eef",
   "metadata": {},
   "outputs": [],
   "source": [
    "def main2(ui):\n",
    "    while True:\n",
    "        print()\n",
    "        print(\"1. Already Attempted the quiz and want to view the Score\")\n",
    "        print(\"2. Attempt the SQL quiz\")\n",
    "        print(\"3. Instructions\")\n",
    "        print(\"4. Exit\")\n",
    "        print()\n",
    "        try:\n",
    "            n = int(input(\"Enter Your Choice: \"))\n",
    "            print()\n",
    "            if n == 1:\n",
    "                score(ui) \n",
    "                break\n",
    "            elif n == 2:\n",
    "                fetch_ques(ui) \n",
    "                break\n",
    "            elif n == 3:\n",
    "                instructions()\n",
    "            elif n == 4:\n",
    "                print(\"Thank You!!!\")\n",
    "                break\n",
    "            else:\n",
    "                print(\"Invalid Choice! Try again.\")\n",
    "        except Exception as e:\n",
    "            print(e)"
   ]
  },
  {
   "cell_type": "code",
   "execution_count": 11,
   "id": "b1b013e9",
   "metadata": {},
   "outputs": [],
   "source": [
    "def main():\n",
    "    while True:\n",
    "        print(\"***** Welcome to SQL quiz *****\")\n",
    "        print()\n",
    "        print(\"1. SIGN UP\")\n",
    "        print(\"2. SIGN IN\")\n",
    "        print(\"3. EXIT\")\n",
    "        print()\n",
    "        try:\n",
    "            n = int(input(\"Enter Your Choice: \"))\n",
    "            print()\n",
    "            if n == 1:\n",
    "                sign_up() \n",
    "                break\n",
    "            elif n == 2:\n",
    "                sign_in()\n",
    "                break\n",
    "            elif n == 3:\n",
    "                print(\"Thank You!!!\")\n",
    "                break\n",
    "            else:\n",
    "                print(\"Invalid Choice! Try again.\")\n",
    "        except Exception as e:\n",
    "            print(e)"
   ]
  },
  {
   "cell_type": "code",
   "execution_count": null,
   "id": "c4667f74",
   "metadata": {},
   "outputs": [],
   "source": [
    "main()"
   ]
  }
 ],
 "metadata": {
  "kernelspec": {
   "display_name": "Python 3 (ipykernel)",
   "language": "python",
   "name": "python3"
  },
  "language_info": {
   "codemirror_mode": {
    "name": "ipython",
    "version": 3
   },
   "file_extension": ".py",
   "mimetype": "text/x-python",
   "name": "python",
   "nbconvert_exporter": "python",
   "pygments_lexer": "ipython3",
   "version": "3.9.13"
  }
 },
 "nbformat": 4,
 "nbformat_minor": 5
}
